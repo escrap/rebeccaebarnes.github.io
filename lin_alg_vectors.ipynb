{
 "cells": [
  {
   "cell_type": "markdown",
   "metadata": {},
   "source": [
    "### Linear Algebra Refresher: Vectors"
   ]
  },
  {
   "cell_type": "markdown",
   "metadata": {},
   "source": [
    "More efforts for MDS eligibility - review of linear algebra with Udacity's [Linear Algebra Refresher](https://www.udacity.com/course/linear-algebra-refresher-course--ud953) course. I knew that I had done all of this in high school but didn't have a way to easily show it and knew I needed to brush up anyway. "
   ]
  },
  {
   "cell_type": "markdown",
   "metadata": {},
   "source": [
    "**Addition, Subtraction, Scalar Multiplication**\n",
    "\n",
    "I originally tried to import `Vector` from `vectors` and had such a terrible time getting it to run (installed it, couldn't get it to run, then got it to run, then couldn't get it to run again...) that I just went with using lists as an equivalent for vectors and tuples as an equivalent for points. I might have to do something different when I get to matrices, but for now, this works; I can code it, and it functions in essentially the same way. "
   ]
  },
  {
   "cell_type": "markdown",
   "metadata": {},
   "source": [
    "Addition formula:"
   ]
  },
  {
   "cell_type": "code",
   "execution_count": 8,
   "metadata": {},
   "outputs": [],
   "source": [
    "def add_vect(v, w):\n",
    "    '''Adds the values in two lists as vector addition, to 3 decimal places.\n",
    "\n",
    "    Args:\n",
    "        two lists.\n",
    "    Returns:\n",
    "        list.\n",
    "    '''\n",
    "    # Create a list of combined elements\n",
    "    add = list(zip(v, w))\n",
    "    # Add the elements together to create vector\n",
    "    add = [round(element[0] + element[1], 3) for element in add]\n",
    "    return add"
   ]
  },
  {
   "cell_type": "markdown",
   "metadata": {},
   "source": [
    "Subtraction formula:"
   ]
  },
  {
   "cell_type": "code",
   "execution_count": 91,
   "metadata": {},
   "outputs": [],
   "source": [
    "def subt_vect(v, w):\n",
    "    '''Subtracts the values of w from v as vector subtraction, \n",
    "       to 3 decimal places.\n",
    "\n",
    "    Args:\n",
    "        two lists of format [(float), (float)].\n",
    "    Returns:\n",
    "        list.\n",
    "    '''\n",
    "    # Create a list of combined elements\n",
    "    subt = list(zip(v, w))\n",
    "    # Compute v - w for each element\n",
    "    subt = [round(element[0] - element[1], 3) for element in subt]\n",
    "    return subt"
   ]
  },
  {
   "cell_type": "markdown",
   "metadata": {},
   "source": [
    "I initially had both of these in a format of:\n",
    "```\n",
    "a, b = v[0], v[1]\n",
    "c, d = w[0], w[1]\n",
    "add = [a + c, b + d]\n",
    "```\n",
    "But realized from zipping in a later formula that this was also possible here (which then caters to vectors of all sizes, which I obviously previously couldn't) and the list comprehension allows for a much more formula for the creation of the final vector. "
   ]
  },
  {
   "cell_type": "markdown",
   "metadata": {},
   "source": [
    "Scalar multiplication formula:"
   ]
  },
  {
   "cell_type": "code",
   "execution_count": 80,
   "metadata": {},
   "outputs": [],
   "source": [
    "def scal_mult(v, x):\n",
    "    '''Multiplies the values in a list as scalar multiplication,\n",
    "       to 5 decimal places.\n",
    "\n",
    "    Args:\n",
    "        list, (float).\n",
    "    Return:\n",
    "        list.\n",
    "    '''\n",
    "    # Mutliply each element in the list by x\n",
    "    v = [round(element * x, 5) for element in v]\n",
    "    return v"
   ]
  },
  {
   "cell_type": "markdown",
   "metadata": {},
   "source": [
    "And then to test them, answering the course questions:"
   ]
  },
  {
   "cell_type": "code",
   "execution_count": 51,
   "metadata": {},
   "outputs": [
    {
     "name": "stdout",
     "output_type": "stream",
     "text": [
      "[7.089, -7.23]\n",
      "[15.342, 7.337]\n",
      "[12.38211, -7.49892, -2.35638]\n"
     ]
    }
   ],
   "source": [
    "v_1 = [8.218, -9.341]\n",
    "v_2 = [-1.129, 2.111]\n",
    "v_3 = [7.119, 8.215]\n",
    "v_4 = [-8.223, 0.878]\n",
    "v_5 = [1.671, -1.012, -0.318]\n",
    "\n",
    "print(add_vect(v_1, v_2))\n",
    "print(subt_vect(v_3, v_4))\n",
    "print(scal_mult(v_5, 7.41))"
   ]
  },
  {
   "cell_type": "markdown",
   "metadata": {},
   "source": [
    "**Magnitude and Direction**\n",
    "\n",
    "I've come across this a couple of times now, but what's fascinating to me is to realize that while there are plenty of parts of the math associated with data analysis that seem very familiar, what I have completely forgotten is the notation...\n",
    "\n",
    "So, to practice my use of LaTex as well, the notation for magnitude of a vector is: $\\mid \\mid \\vec{v} \\mid \\mid$\n"
   ]
  },
  {
   "cell_type": "markdown",
   "metadata": {},
   "source": [
    "Vector magnitude formula:"
   ]
  },
  {
   "cell_type": "code",
   "execution_count": 81,
   "metadata": {},
   "outputs": [],
   "source": [
    "def mag_vect(v):\n",
    "    '''Finds the magnitude of a list as a vector, to 5 decimal places.\n",
    "\n",
    "    Args:\n",
    "        list.\n",
    "    Returns:\n",
    "        (float).\n",
    "    '''\n",
    "    # Find the sum of the squares of all elements and the square root of the sum\n",
    "    mag = round(sum([element ** 2 for element in v]) ** 0.5, 5)\n",
    "    return mag"
   ]
  },
  {
   "cell_type": "markdown",
   "metadata": {},
   "source": [
    "What's interesting to me is that then, direction is simply referenced by the unit vector, as opposed to the actual angle, while, of course, it's easy to then compute the angle, with arc cos, that is not immediately intuitive to me."
   ]
  },
  {
   "cell_type": "markdown",
   "metadata": {},
   "source": [
    "Direction or normalization formula:"
   ]
  },
  {
   "cell_type": "code",
   "execution_count": 82,
   "metadata": {},
   "outputs": [],
   "source": [
    "def norm_vect(v):\n",
    "    '''Normalizes the values in a list as a vector, to 5 decimal places.\n",
    "       Returns an exception if trying to normalize the zero vector.\n",
    "\n",
    "    Args:\n",
    "        list.\n",
    "    Returns:\n",
    "        list.\n",
    "    '''\n",
    "    try:\n",
    "        # Find the magnitude of v\n",
    "        n = mag_vect(v)\n",
    "    except ZeroDivisionError:\n",
    "        print('You cannot normalize the zero vector.')\n",
    "    # Normalize v by using scalar multiplication\n",
    "    v = scal_mult(v, 1/n)\n",
    "    # Convert back to float\n",
    "    v = [round(element, 5) for element in v]\n",
    "    return v"
   ]
  },
  {
   "cell_type": "markdown",
   "metadata": {},
   "source": [
    "(I had originally used an 'if' statement to manage the zero vector ( $\\vec{0}$ ), but exception management seemed more elegant, and something to practice)"
   ]
  },
  {
   "cell_type": "markdown",
   "metadata": {},
   "source": [
    "And to test the formula:"
   ]
  },
  {
   "cell_type": "code",
   "execution_count": 18,
   "metadata": {},
   "outputs": [
    {
     "name": "stdout",
     "output_type": "stream",
     "text": [
      "7.44\n",
      "10.884\n",
      "[0.934, -0.357]\n",
      "[0.34, 0.53, -0.777]\n"
     ]
    }
   ],
   "source": [
    "v_6 = [-0.221, 7.437]\n",
    "v_7 = [8.813, -1.331, -6.247]\n",
    "v_8 = [5.581, -2.136]\n",
    "v_9 = [1.996, 3.108, -4.554]\n",
    "\n",
    "print(mag_vect(v_6))\n",
    "print(mag_vect(v_7))\n",
    "print(norm_vect(v_8))\n",
    "print(norm_vect(v_9))"
   ]
  },
  {
   "cell_type": "markdown",
   "metadata": {},
   "source": [
    "**Inner Products**\n",
    "\n",
    "Now this seems somewhat familiar; more than anything what I remember about linear algebra is learning how to do matrix multiplication, because it was unlike anything I had done before, and obviously calculating the inner product, or dot product, is the first step towards matrix multiplication. "
   ]
  },
  {
   "cell_type": "markdown",
   "metadata": {},
   "source": [
    "Dot product formua:"
   ]
  },
  {
   "cell_type": "code",
   "execution_count": 83,
   "metadata": {},
   "outputs": [],
   "source": [
    "def dot_prod(v, w):\n",
    "    '''Returns the inner product of two vectors, to 5 decimal places.\n",
    "\n",
    "    Args:\n",
    "        two lists of (float) or (int), of equal length.\n",
    "    Returns:\n",
    "        (float).\n",
    "    '''\n",
    "    # Create list of combined elements\n",
    "    prod = list(zip(v, w))\n",
    "    # Multiply each set of elements together and return their sum\n",
    "    prod = round(sum([element[0] * element[1] for element in prod]), 5)\n",
    "    return prod"
   ]
  },
  {
   "cell_type": "markdown",
   "metadata": {},
   "source": [
    "Angle between two vectors formula:"
   ]
  },
  {
   "cell_type": "code",
   "execution_count": 84,
   "metadata": {},
   "outputs": [],
   "source": [
    "from math import acos, pi\n",
    "\n",
    "def ang_vect(v, w, in_radians=True):\n",
    "    '''Finds the angle between two vectors in either radians (default) or degrees,\n",
    "       to 5 decimal places.\n",
    "       Returns an exception if trying to compare to the zero vector.\n",
    "\n",
    "    Args:\n",
    "        v, w: two lists of (float) or (int), of equal length.\n",
    "        in_radians:\n",
    "            True: return result in radians (default).\n",
    "            False: return result in degrees.\n",
    "    Returns:\n",
    "        (float).\n",
    "    '''\n",
    "    # Test for division by zero\n",
    "    try:\n",
    "        norm_v = norm_vect(v)\n",
    "        norm_w = norm_vect(w)\n",
    "    except ZeroDivisionError:\n",
    "        print('You cannot use this formula to compare to the zero vector.')\n",
    "    # Find the angle of dot product of the normalized vectors\n",
    "    angle = round(acos(round(dot_prod(norm_v, norm_w), 3)), 5)\n",
    "    if in_radians is False:\n",
    "        angle = round(angle*180/pi, 5)\n",
    "    return angle"
   ]
  },
  {
   "cell_type": "markdown",
   "metadata": {},
   "source": [
    "And again to test the formula:"
   ]
  },
  {
   "cell_type": "code",
   "execution_count": 74,
   "metadata": {},
   "outputs": [
    {
     "name": "stdout",
     "output_type": "stream",
     "text": [
      "-41.38229\n",
      "56.39718\n",
      "3.07201\n",
      "60.27631\n"
     ]
    }
   ],
   "source": [
    "v_10 = [7.887, 4.138]\n",
    "v_11 = [-8.802, 6.776]\n",
    "v_12 = [-5.955, -4.904, -1.874]\n",
    "v_13 = [-4.496, -8.755, 7.103]\n",
    "v_14 = [3.183, -7.627]\n",
    "v_15 = [-2.668, 5.319]\n",
    "v_16 = [7.35, 0.221, 5.188]\n",
    "v_17 = [2.751, 8.259, 3.985]\n",
    "\n",
    "print(dot_prod(v_10, v_11))\n",
    "print(dot_prod(v_12, v_13))\n",
    "print(ang_vect(v_14, v_15))\n",
    "print(ang_vect(v_16, v_17, False))"
   ]
  },
  {
   "cell_type": "markdown",
   "metadata": {},
   "source": [
    "When comparing this to the actual answers in the course, I was getting correct answers for the first two, and not for the second two (I was getting 3.07 and 60.275). After reviewing the answer, I discovered that in the course, the formulae had been adjusted to accommodate the use of actual decimals (due to how floats are otherwise handled by the program). So, I went back and adjusted all of my formula to include this. "
   ]
  },
  {
   "cell_type": "code",
   "execution_count": 12,
   "metadata": {},
   "outputs": [],
   "source": [
    "from decimal import Decimal"
   ]
  },
  {
   "cell_type": "markdown",
   "metadata": {},
   "source": [
    "When I ran the updated formulae with Decimal, it didn't improve the results, in fact, the first result for ang_vect was further from the actual (became 3.078) and the second remained unchanged. I wanted to see if this was due to rounding errors (originally everything was rounded to three decimals because this is what was required for our answers), or whether it was due to imprecision due to lack of use of the Decimal (without which, apparently can cause an error for finding the acos of some normalized dot products).\n",
    "\n",
    "So I ran some tests:"
   ]
  },
  {
   "cell_type": "code",
   "execution_count": 44,
   "metadata": {},
   "outputs": [
    {
     "name": "stdout",
     "output_type": "stream",
     "text": [
      "0.999\n",
      "0.999\n"
     ]
    }
   ],
   "source": [
    "print(dot_prod(norm_vect([1, 1, 1]), norm_vect([5, 5, 5])))\n",
    "print(dot_prod(norm_vect([-1, -1, -1]), norm_vect([-5, -5, -5])))"
   ]
  },
  {
   "cell_type": "markdown",
   "metadata": {},
   "source": [
    "This is definitely a problem, because obviously the product of these should be 1 and not 0.999. So, back to testing."
   ]
  },
  {
   "cell_type": "code",
   "execution_count": 45,
   "metadata": {},
   "outputs": [
    {
     "name": "stdout",
     "output_type": "stream",
     "text": [
      "[Decimal('0.577'), Decimal('0.577'), Decimal('0.577')] [Decimal('0.577'), Decimal('0.577'), Decimal('0.577')]\n",
      "[Decimal('-0.577'), Decimal('-0.577'), Decimal('-0.577')] [Decimal('-0.577'), Decimal('-0.577'), Decimal('-0.577')]\n"
     ]
    }
   ],
   "source": [
    "print(norm_vect([1, 1, 1]), norm_vect([5, 5, 5]))\n",
    "print(norm_vect([-1, -1, -1]), norm_vect([-5, -5, -5]))"
   ]
  },
  {
   "cell_type": "markdown",
   "metadata": {},
   "source": [
    "So, `0.577 * 0.577` gives `0.332929` on my calculator, and multiplied by 3, gives `0.998787`. When this is rounded to three decimal places, it gives `0.999`, which was the answer above. So it would seem that the error is a rounding error that is affecting normalizing (reminding me why my Grade 10 math teacher would always encourage us to round to more significant values when computing for the final answer). \n",
    "\n",
    "Because of this, I adjusted the rounding to 5. I also noted that the results of norm_vect are Decimal types, so I converted them back to floats just for ease of presentation.\n",
    "\n",
    "After doing all of this, I reran everything and got the answers I was looking for! I realized that due to the rounding, I probably caused most of my errors (and wasn't certain about the impact of the Decimal), but, it works - I double checked against the previous test results for the dot products:"
   ]
  },
  {
   "cell_type": "code",
   "execution_count": 62,
   "metadata": {},
   "outputs": [
    {
     "name": "stdout",
     "output_type": "stream",
     "text": [
      "1.00000\n",
      "1.00000\n"
     ]
    }
   ],
   "source": [
    "print(dot_prod(norm_vect([1, 1, 1]), norm_vect([5, 5, 5])))\n",
    "print(dot_prod(norm_vect([-1, -1, -1]), norm_vect([-5, -5, -5])))"
   ]
  },
  {
   "cell_type": "markdown",
   "metadata": {},
   "source": [
    "I realize that if I were to use these formulae for applications that required more precision, they likely wouldn't be appropriate, but I believe for my current purposes they are functional. I expect that in the future, if I am using linear algebra I will use the Vector module (or I believe there are options in numpy), but for now, I think that this suffices. "
   ]
  },
  {
   "cell_type": "markdown",
   "metadata": {},
   "source": [
    "**Parallelism & Orthogonality**\n",
    "\n",
    "So after this impressive simplifed walkthrough of the proof (from the Udacity course) for why $\\vec{0}$ is orthogonal to itself (the only vector for which this is the case):\n",
    "\n",
    "$$\n",
    "\\begin{align}\n",
    "if \\quad \\vec{v}.\\vec{v} \\, = \\, 0\\\\\n",
    "\\therefore \\; \\mid \\mid \\vec{v} \\mid \\mid ^2 \\, = \\, 0\\\\\n",
    "\\therefore \\; \\mid \\mid \\vec{v} \\mid \\mid \\; = \\, 0\\\\\n",
    "\\therefore \\, \\vec{v} \\, = \\, \\vec{0}\\\\\n",
    "\\end{align}\n",
    "$$\n",
    "<p style=\"text-align: center;\">(because $\\vec{0}$ is the only vector with 0 magnitude)</p>\n",
    "\n",
    "It was time to put my formula to the true test!"
   ]
  },
  {
   "cell_type": "code",
   "execution_count": 85,
   "metadata": {},
   "outputs": [],
   "source": [
    "def para_test(v,w):\n",
    "    '''Checks the parallelism of two vectors.\n",
    "\n",
    "    Args:\n",
    "        two lists of (float) or (int).\n",
    "    Returns:\n",
    "        (bool).\n",
    "    '''\n",
    "    # Test for zero vector\n",
    "    if mag_vect(v) == 0 or mag_vect(w) == 0:\n",
    "        return True\n",
    "    elif ang_vect(v, w) == 0 or ang_vect(v,w) == round(pi, 5):\n",
    "        return True\n",
    "    return False"
   ]
  },
  {
   "cell_type": "code",
   "execution_count": 86,
   "metadata": {},
   "outputs": [],
   "source": [
    "def orth_test(v,w):\n",
    "    '''Checks the orthogonality of two vectors.\n",
    "\n",
    "    Args:\n",
    "        two lists of (float) or (int).\n",
    "    Returns:\n",
    "        (bool).\n",
    "    '''\n",
    "    if dot_prod(v, w) == 0:\n",
    "        return True\n",
    "    return False"
   ]
  },
  {
   "cell_type": "code",
   "execution_count": 87,
   "metadata": {},
   "outputs": [
    {
     "name": "stdout",
     "output_type": "stream",
     "text": [
      "True False\n",
      "False False\n",
      "False True\n",
      "True True\n"
     ]
    }
   ],
   "source": [
    "v_18 = [-7.579, -7.88]\n",
    "v_19 = [22.737, 23.64]\n",
    "v_20 = [-2.029, 9.97, 4.172]\n",
    "v_21 = [-9.231, -6.639, -7.245]\n",
    "v_22 = [-2.328, -7.284, -1.214]\n",
    "v_23 = [-1.821, 1.072, -2.94]\n",
    "v_24 = [2.118, 4.827]\n",
    "v_25 = [0, 0]\n",
    "\n",
    "print(para_test(v_18, v_19), orth_test(v_18, v_19))\n",
    "print(para_test(v_20, v_21), orth_test(v_20, v_21))\n",
    "print(para_test(v_22, v_23), orth_test(v_22, v_23))\n",
    "print(para_test(v_24, v_25), orth_test(v_24, v_25))"
   ]
  },
  {
   "cell_type": "markdown",
   "metadata": {},
   "source": [
    "Completing the above took **forever** in part because of my lack of coding experience, and in part, for imperfect conceptualisation of parallelism, and then the imprecision came into play. \n",
    "\n",
    "Firstly, I tried to create a function that could manage both tests but kept overwriting the results of one test with the other, especially when the zero vector was involved. I finally worked out that it was easier to test them separately and manage the comparison to th null vector for parallelism. \n",
    "\n",
    "Also tried developing all of the code here instead of in my editor which was a bad move, I found it harder to navigate around the code here, so the editor is staying in use after this!\n",
    "\n",
    "Next, I was trying to compare the magnitudes of the vectors for parallelism, but normalizing and finding the absolute, but it's much easier to just compare the angles (as I found out in the answers), which will either be zero or $\\pi$ radians. \n",
    "\n",
    "Finally, the rounding issue played again, which allowed me to finally sort out that, yes, the issue had to do with the rounding, but that as long as I appropriately managed the rounding (rounding to longer than I was intending to compare), I could use it, and I didn't need the Decimal at all. Again, of course this won't work in more precise applications, but it is fine for now. So all formulae were converted back (!) to not using Decimal. "
   ]
  },
  {
   "cell_type": "markdown",
   "metadata": {},
   "source": [
    "**Projecting Vectors**\n",
    "\n",
    "Projecting vectors also tweaked the memory files. Calculating the parallel and perpendicular elements of a vector projected onto another reminded me of gravitational forces acting on an inclined plane. (I'm pretty sure in 2D it's the same, but it gets complicated after that) \n",
    "\n",
    "One explanation that I like is that parallel component of $\\vec{v}$ (if $\\vec{v}$ is projected onto $\\vec{b}$) is that the parallel component of $\\vec{v}$ is like the shadow made by $\\vec{v}$ onto $\\vec{b}$ if the sun were shining directly on top of $\\vec{b}$. \n",
    "\n",
    "The notation for $\\vec{v}$ being projected onto $\\vec{b}$, or, the normalization of $\\vec{v}$ onto $\\vec{b}$ is:\n",
    "\n",
    "$$\n",
    "proj_ \\vec{b} ( \\, \\vec{v} \\, ) \\, \n",
    "\\\\\n",
    "$$\n",
    "\n",
    "$$\n",
    "or \n",
    "\\\\\n",
    "$$\n",
    "\n",
    "$$\n",
    "\\vec{v} \\, ^\\parallel\n",
    "$$\n",
    "\n",
    "That is, \"v parallel\".\n",
    "\n",
    "The part of $\\vec{v}$ that is not projected onto $\\vec{b}$, and is perpendicular - or orthogonal - to $\\vec{b}$ is known as $\\vec{v} \\, ^ \\perp$, or, \"v perp\"."
   ]
  },
  {
   "cell_type": "markdown",
   "metadata": {},
   "source": [
    "Again, following the nice walk-thru provided in the class for the calculation of the magnitude, or length, of $\\vec{v} \\, ^\\parallel$ (assumption: $\\theta \\; \\leqslant 90^o$):\n",
    "\n",
    "$$\n",
    "(1) \\quad cos \\, \\theta \\, = \\, \n",
    "\\frac{\\| \\vec{v} \\, ^\\parallel \\|} \n",
    "{\\| \\vec{v} \\|}\n",
    "\\\\\n",
    "and\n",
    "\\\\\n",
    "(2) \\quad cos \\, \\theta \\quad = \\quad \\frac{\\vec{v}.\\vec{b}}\n",
    "{\\| \\vec{v} \\| \\, \\| \\vec{b} \\|}\n",
    "\\\\\n",
    "$$\n",
    "\n",
    "$$\n",
    "rearrange \\; (1)\n",
    "\\\\\n",
    "$$\n",
    "\n",
    "$$\n",
    "\\| \\vec{v} \\, ^\\parallel \\| \\quad = \\quad \\| \\vec{v} \\| \\, cos \\theta\n",
    "\\\\\n",
    "$$\n",
    "\n",
    "$$\n",
    "sub \\; (2) \\; into \\; (1)\n",
    "\\\\\n",
    "\\therefore \\; \\| \\vec{v} \\, ^\\parallel \\| \\quad = \\quad\n",
    "\\| \\vec{v} \\|\n",
    "\\frac{\\vec{v}.\\vec{b}}\n",
    "{\\| \\vec{v} \\| \\| \\vec{b} \\|}\n",
    "\\\\\n",
    "$$\n",
    "\n",
    "$$\n",
    "\\therefore \\; \\| \\vec{v} \\, ^\\parallel \\| \\quad = \\quad \\vec{v}. \\vec{u} \\, _\\vec{b}\n",
    "$$\n",
    "\n",
    "That is, the length of $\\vec{v}$ equals the dot product of $\\vec{v}$ and $\\vec{b}$ normalized (divided by it's magnitude), or, the unit vector.\n",
    "\n",
    "Because $\\vec{v} \\, ^\\parallel$ points in the same direction as $\\vec{u} \\, _\\vec{b}$, if we scale the unit vector by $\\| \\vec{v} \\|$, we will get $\\vec{v} \\, ^\\parallel$.\n",
    "\n",
    "That is:\n",
    "\n",
    "$$\n",
    "\\vec{v} \\, ^\\parallel \\; = \\; \\| \\vec{v} \\, ^\\parallel \\| . \\vec{u} \\, _\\vec{b}\n",
    "$$\n",
    "\n",
    "By plugging in the formula (from above) for $\\| \\vec{v} \\, ^\\parallel \\|$, the resulting formula is:\n",
    "\n",
    "$$\n",
    "\\vec{v} \\, ^\\parallel \\; = \\; (\\vec{v}.\\vec{u} \\, _\\vec{b} ). \\vec{u} \\, _\\vec{b}\n",
    "$$\n",
    "\n",
    "This will work even if the angle between $\\vec{v}$ and $\\vec{b}$ is not less than $90^o$.\n",
    "\n",
    "Phew!! Now to get to the coding for calculating the parallel and orthogonal components of a vector projected onto another:"
   ]
  },
  {
   "cell_type": "code",
   "execution_count": 93,
   "metadata": {},
   "outputs": [],
   "source": [
    "def para_vect(v, b):\n",
    "    '''Returns the parallel component of v projected onto b.\n",
    "\n",
    "    Args:\n",
    "        two lists of the same length containing any of (float) or (int).\n",
    "    Returns:\n",
    "        list.\n",
    "    '''\n",
    "    # Find the normalization of b\n",
    "    try:\n",
    "        norm_b = norm_vect(b)\n",
    "    except ZeroDivisionError:\n",
    "        print('There is no component of a vector that projects onto the zero vector.')\n",
    "    x = dot_prod(v, norm_b)\n",
    "    para_v = scal_mult(norm_b, x)\n",
    "    return para_v"
   ]
  },
  {
   "cell_type": "code",
   "execution_count": 89,
   "metadata": {},
   "outputs": [],
   "source": [
    "def perp_vect(v, b):\n",
    "    '''Returns the perpendicular component of v projected onto b.\n",
    "\n",
    "    Args:\n",
    "        two lists of the same length containing any of (float) or (int).\n",
    "    Returns:\n",
    "        list.\n",
    "    '''\n",
    "    # Find v parallel\n",
    "    try:\n",
    "        para_v = para_vect(v, b)\n",
    "    except:\n",
    "        print('There may not be a unique perpendicular component of v.')\n",
    "    # Subtract para_v from v to find v perp\n",
    "    return subt_vect(v, para_v)"
   ]
  },
  {
   "cell_type": "code",
   "execution_count": 94,
   "metadata": {},
   "outputs": [
    {
     "name": "stdout",
     "output_type": "stream",
     "text": [
      "Parallel of v on b: [1.08262, 2.67173]\n",
      "Perpend of v on b: [-8.35, 3.376, -1.434]\n",
      "Parallel & perpend of v on b: [1.96851, -2.81077, 0.84807, 2.67983] [1.04, -3.361, 2.844, -5.19]\n"
     ]
    }
   ],
   "source": [
    "v_26 = [3.039, 1.879]\n",
    "v_27 = [0.825, 2.036]\n",
    "v_28 = [-9.88, -3.264, -8.159]\n",
    "v_29 = [-2.155, -9.353, -9.473]\n",
    "v_30 = [3.009, -6.172, 3.692, -2.51]\n",
    "v_31 = [6.404, -9.144, 2.759, 8.718]\n",
    "\n",
    "print(\"Parallel of v on b:\", para_vect(v_26, v_27))\n",
    "print(\"Perpend of v on b:\", perp_vect(v_28, v_29))\n",
    "print(\"Parallel & perpend of v on b:\", para_vect(v_30, v_31), perp_vect(v_30, v_31))"
   ]
  },
  {
   "cell_type": "markdown",
   "metadata": {},
   "source": [
    "I did really well for the code that I defined and it worked properly, I just forgot to add management for attempting to project onto the zero vector for para_vect and for if there was no unique component for $\\vec{v} \\, ^\\perp$. I'm uncertain exactly what error would be thrown (or how to cause it to be thrown), so I broadly covered it with my exception management. "
   ]
  },
  {
   "cell_type": "markdown",
   "metadata": {},
   "source": [
    "**Cross Products**\n",
    "\n",
    "So they walked through the proof/derivation of the formula for this and I could NOT follow it. But, the result of the cross product of two vectors works like this:\n",
    "$$\n",
    "if \\quad \\vec{v} \\; = \\; \\left\\lgroup \\matrix{x_1\\cr y_1\\cr z_1} \\right\\rgroup\n",
    "\\; , \\quad \\vec{w} \\; = \\; \\left\\lgroup \\matrix{x_2\\cr y_2\\cr z_2} \\right\\rgroup\n",
    "\\; , \\quad then \\quad \\vec{v} \\, \\times \\, \\vec{w} \\; = \\; \n",
    "\\left\\lgroup \\matrix{y_1 z_2 \\; - \\; y_2 z_1\\cr -(x_1 z_2 \\; - \\; x_2 z_1)\\cr x_1 y_2 \\; - \\; x_2 y_1} \\right\\rgroup\n",
    "$$\n",
    "\n",
    "Basically the way this works is you do a bunch of multiply these crosses of this pair, and subtract by the other cross of the pair, for each of the potential paris within the two vectors. \n",
    "\n",
    "The area of the parallelogram formed by $\\vec{v}$ and $\\vec{w}$ is $\\|\\vec{v} \\, \\times \\, \\vec{w} \\|$. The area of the triangle within the parallelogram is half of this. \n",
    "\n",
    "And back to coding:"
   ]
  },
  {
   "cell_type": "code",
   "execution_count": 99,
   "metadata": {},
   "outputs": [],
   "source": [
    "def cross_prod(v, w):\n",
    "    '''Finds the vector that is orthogonal to both v and w, or the cross-product.\n",
    "\n",
    "    Args:\n",
    "        two lists of ln() = 3 containing any of (float) or (int).\n",
    "    Returns:\n",
    "        list.\n",
    "    '''\n",
    "    # Complete the cross product multiplications and subtractions\n",
    "    try:\n",
    "        x_line = round(v[1]*w[2] - w[1]*v[2], 5)\n",
    "        y_line = round(w[0]*v[2] - v[0]*w[2], 5)\n",
    "        z_line = round(v[0]*w[1] - w[0]*v[1], 5)\n",
    "    except ValueError as e:\n",
    "        msg = str(e)\n",
    "        if msg == 'need more than 2 values to unpack':\n",
    "            v.append(0)\n",
    "            w.append(0)\n",
    "            x_line = round(v[1]*w[2] - w[1]*v[2], 5)\n",
    "            y_line = round(w[0]*v[2] - v[0]*w[2], 5)\n",
    "            z_line = round(v[0]*w[1] - w[0]*v[1], 5)\n",
    "            return [x_line, y_line, z_line]\n",
    "        elif (msg == 'too many values to unpack' or msg == 'need more than 1 value to unpack'):\n",
    "            print('This function is only designed to work in two 3D spaces')\n",
    "        else:\n",
    "            raise e\n",
    "\n",
    "    return [x_line, y_line, z_line]"
   ]
  },
  {
   "cell_type": "code",
   "execution_count": 96,
   "metadata": {},
   "outputs": [],
   "source": [
    "def parallel_area(v, w):\n",
    "    '''Finds the area of the parallelogram made by vectors v and w.\n",
    "\n",
    "    Args:\n",
    "        two lists of ln() = 3 containing any of (float) or (int).\n",
    "    Returns:\n",
    "        float.\n",
    "    '''\n",
    "    # Find the cross product of v and w\n",
    "    parallel = cross_prod(v, w)\n",
    "    # Find the area of the parallelogram\n",
    "    return mag_vect(parallel)"
   ]
  },
  {
   "cell_type": "code",
   "execution_count": 97,
   "metadata": {},
   "outputs": [],
   "source": [
    "def triangle_area(v, w):\n",
    "    '''Finds the area of the triangle made by vectors v and w.\n",
    "\n",
    "    Args:\n",
    "        two lists of ln() = 3 containing any of (float) or (int).\n",
    "    Returns:\n",
    "        float.\n",
    "    '''\n",
    "    return parallel_area(v, w)*0.5"
   ]
  },
  {
   "cell_type": "code",
   "execution_count": 100,
   "metadata": {},
   "outputs": [
    {
     "name": "stdout",
     "output_type": "stream",
     "text": [
      "Cross prod of two vectors: [-11.20457, -97.60944, -105.68516]\n",
      "Area of parallelogram: 142.12222\n",
      "Area of triangle: 42.56494\n"
     ]
    }
   ],
   "source": [
    "v_32, v_33 = [8.462, 7.893, -8.187], [6.984, -5.975, 4.778]\n",
    "v_34, v_35 = [-8.987, -9.838, 5.031], [-4.268, -1.861, -8.866]\n",
    "v_36, v_37 = [1.5, 9.547, 3.691], [-6.007, 0.124, 5.772]\n",
    "\n",
    "print(\"Cross prod of two vectors:\", cross_prod(v_32, v_33))\n",
    "print(\"Area of parallelogram:\", parallel_area(v_34, v_35))\n",
    "print(\"Area of triangle:\", triangle_area(v_36, v_37))"
   ]
  },
  {
   "cell_type": "markdown",
   "metadata": {},
   "source": [
    "Although the lesson mentioned accommodating for vectors of ln() = 2, I had no idea how to do it, so I followed the exception management provided in the lesson, adapting it to my situation.\n",
    "\n",
    "**The next section will be on Intersections!**"
   ]
  },
  {
   "cell_type": "code",
   "execution_count": null,
   "metadata": {},
   "outputs": [],
   "source": []
  }
 ],
 "metadata": {
  "kernelspec": {
   "display_name": "Python [default]",
   "language": "python",
   "name": "python3"
  },
  "language_info": {
   "codemirror_mode": {
    "name": "ipython",
    "version": 3
   },
   "file_extension": ".py",
   "mimetype": "text/x-python",
   "name": "python",
   "nbconvert_exporter": "python",
   "pygments_lexer": "ipython3",
   "version": "3.6.4"
  }
 },
 "nbformat": 4,
 "nbformat_minor": 2
}
